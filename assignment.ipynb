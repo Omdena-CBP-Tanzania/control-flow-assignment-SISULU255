{
  "nbformat": 4,
  "nbformat_minor": 0,
  "metadata": {
    "colab": {
      "provenance": [],
      "gpuType": "T4"
    },
    "kernelspec": {
      "name": "python3",
      "display_name": "Python 3"
    },
    "language_info": {
      "name": "python"
    },
    "accelerator": "GPU"
  },
  "cells": [
    {
      "cell_type": "markdown",
      "source": [
        "NO.1"
      ],
      "metadata": {
        "id": "FniDfK7ADlZn"
      }
    },
    {
      "cell_type": "code",
      "execution_count": 1,
      "metadata": {
        "colab": {
          "base_uri": "https://localhost:8080/"
        },
        "id": "TmrVoHH0Decg",
        "outputId": "58be404f-d177-42bf-fe07-82804c195bce"
      },
      "outputs": [
        {
          "output_type": "stream",
          "name": "stdout",
          "text": [
            "0\n",
            "2\n",
            "4\n",
            "6\n",
            "8\n",
            "10\n",
            "12\n",
            "14\n",
            "16\n"
          ]
        }
      ],
      "source": [
        "# Task 1: while loop\n",
        "number = 0\n",
        "while number <= 20:\n",
        "    if number % 2 == 0:\n",
        "        print(number)\n",
        "    number += 2\n",
        "    if number > 16:\n",
        "        break\n"
      ]
    },
    {
      "cell_type": "markdown",
      "source": [
        "NO.2"
      ],
      "metadata": {
        "id": "o8T_k5oyD38F"
      }
    },
    {
      "cell_type": "code",
      "source": [
        "# Task 2: for loop with continue\n",
        "for num in range(1, 16):\n",
        "    if num % 3 == 0:\n",
        "        continue\n",
        "    print(num)\n"
      ],
      "metadata": {
        "colab": {
          "base_uri": "https://localhost:8080/"
        },
        "id": "mNFWjS_qD6Ro",
        "outputId": "81e226df-49fc-410f-a890-e685f2111ce7"
      },
      "execution_count": 2,
      "outputs": [
        {
          "output_type": "stream",
          "name": "stdout",
          "text": [
            "1\n",
            "2\n",
            "4\n",
            "5\n",
            "7\n",
            "8\n",
            "10\n",
            "11\n",
            "13\n",
            "14\n"
          ]
        }
      ]
    },
    {
      "cell_type": "markdown",
      "source": [
        "NO.3"
      ],
      "metadata": {
        "id": "UxOp93tDERmV"
      }
    },
    {
      "cell_type": "code",
      "source": [
        "# Task 3: if-else statement\n",
        "number = int(input(\"Enter a number: \"))\n",
        "if number > 0:\n",
        "    print(\"The number is positive.\")\n",
        "elif number < 0:\n",
        "    print(\"The number is negative.\")\n",
        "else:\n",
        "    print(\"The number is zero.\")\n"
      ],
      "metadata": {
        "colab": {
          "base_uri": "https://localhost:8080/"
        },
        "id": "9nV0BpO8EV5d",
        "outputId": "fd11c196-c9fa-46ef-8642-a72a5892cd39"
      },
      "execution_count": 3,
      "outputs": [
        {
          "output_type": "stream",
          "name": "stdout",
          "text": [
            "Enter a number: -98\n",
            "The number is negative.\n"
          ]
        }
      ]
    },
    {
      "cell_type": "markdown",
      "source": [
        "NO.4"
      ],
      "metadata": {
        "id": "ejGm69xaEWv8"
      }
    },
    {
      "cell_type": "code",
      "source": [
        "# Task 4: Nested loops\n",
        "for z in range(1, 6):\n",
        "    for y in range(1, 6):\n",
        "        print(z * y, end=\"\\t\")\n",
        "    print()\n"
      ],
      "metadata": {
        "colab": {
          "base_uri": "https://localhost:8080/"
        },
        "id": "NSqYuIxiEYVF",
        "outputId": "f43a8a3d-b924-447d-e797-5e30ddcc45e3"
      },
      "execution_count": 8,
      "outputs": [
        {
          "output_type": "stream",
          "name": "stdout",
          "text": [
            "1\t2\t3\t4\t5\t\n",
            "2\t4\t6\t8\t10\t\n",
            "3\t6\t9\t12\t15\t\n",
            "4\t8\t12\t16\t20\t\n",
            "5\t10\t15\t20\t25\t\n"
          ]
        }
      ]
    }
  ]
}